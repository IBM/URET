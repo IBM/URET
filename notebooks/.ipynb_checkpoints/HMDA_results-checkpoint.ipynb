{
 "cells": [
  {
   "cell_type": "markdown",
   "id": "01e543f0",
   "metadata": {},
   "source": [
    "This reports the HMDA results"
   ]
  },
  {
   "cell_type": "code",
   "execution_count": 1,
   "id": "4de08227",
   "metadata": {},
   "outputs": [
    {
     "name": "stderr",
     "output_type": "stream",
     "text": [
      "2023-06-09 13:28:32.401894: I tensorflow/core/platform/cpu_feature_guard.cc:193] This TensorFlow binary is optimized with oneAPI Deep Neural Network Library (oneDNN) to use the following CPU instructions in performance-critical operations:  AVX2 FMA\n",
      "To enable them in other operations, rebuild TensorFlow with the appropriate compiler flags.\n",
      "2023-06-09 13:28:32.523476: W tensorflow/stream_executor/platform/default/dso_loader.cc:64] Could not load dynamic library 'libcudart.so.11.0'; dlerror: libcudart.so.11.0: cannot open shared object file: No such file or directory; LD_LIBRARY_PATH: /usr/local/cuda-11.3/lib64:/usr/local/cuda-11.3/lib64:\n",
      "2023-06-09 13:28:32.523506: I tensorflow/stream_executor/cuda/cudart_stub.cc:29] Ignore above cudart dlerror if you do not have a GPU set up on your machine.\n",
      "2023-06-09 13:28:32.552405: E tensorflow/stream_executor/cuda/cuda_blas.cc:2981] Unable to register cuBLAS factory: Attempting to register factory for plugin cuBLAS when one has already been registered\n",
      "2023-06-09 13:28:33.171151: W tensorflow/stream_executor/platform/default/dso_loader.cc:64] Could not load dynamic library 'libnvinfer.so.7'; dlerror: libnvinfer.so.7: cannot open shared object file: No such file or directory; LD_LIBRARY_PATH: /usr/local/cuda-11.3/lib64:/usr/local/cuda-11.3/lib64:\n",
      "2023-06-09 13:28:33.171263: W tensorflow/stream_executor/platform/default/dso_loader.cc:64] Could not load dynamic library 'libnvinfer_plugin.so.7'; dlerror: libnvinfer_plugin.so.7: cannot open shared object file: No such file or directory; LD_LIBRARY_PATH: /usr/local/cuda-11.3/lib64:/usr/local/cuda-11.3/lib64:\n",
      "2023-06-09 13:28:33.171276: W tensorflow/compiler/tf2tensorrt/utils/py_utils.cc:38] TF-TRT Warning: Cannot dlopen some TensorRT libraries. If you would like to use Nvidia GPU with TensorRT, please make sure the missing libraries mentioned above are installed properly.\n"
     ]
    }
   ],
   "source": [
    "from __future__ import absolute_import, division, print_function, unicode_literals\n",
    "import os\n",
    "import warnings\n",
    "\n",
    "warnings.filterwarnings(\"ignore\")\n",
    "\n",
    "import pandas as pd\n",
    "import numpy as np\n",
    "\n",
    "\n",
    "from sklearn.metrics import accuracy_score\n",
    "from sklearn.preprocessing import StandardScaler\n",
    "import pickle\n",
    "from tensorflow import keras"
   ]
  },
  {
   "cell_type": "markdown",
   "id": "fc8a7e6b",
   "metadata": {},
   "source": [
    "# Data and Model prep"
   ]
  },
  {
   "cell_type": "code",
   "execution_count": 2,
   "id": "ba5a6d86",
   "metadata": {},
   "outputs": [
    {
     "name": "stdout",
     "output_type": "stream",
     "text": [
      "(650877, 35)\n",
      "(650877, 1)\n",
      "(278948, 35)\n",
      "(278948, 1)\n"
     ]
    }
   ],
   "source": [
    "data_directory = \"data/HMDA/\"\n",
    "\n",
    "X_test = pd.read_csv(data_directory+'HMDA-MORTGAGE-APPROVAL_Xtest.bz2')\n",
    "y_test = pd.read_csv(data_directory+'HMDA-MORTGAGE-APPROVAL_ytest.bz2')\n",
    "X_train = pd.read_csv(data_directory+'HMDA-MORTGAGE-APPROVAL_Xtrain.bz2')\n",
    "y_train = pd.read_csv(data_directory+'HMDA-MORTGAGE-APPROVAL_ytrain.bz2')\n",
    "\n",
    "print(X_train.shape)\n",
    "print(y_train.shape)\n",
    "print(X_test.shape)\n",
    "print(y_test.shape)\n",
    "\n",
    "scaler = StandardScaler().fit(X_train)\n",
    "\n",
    "def feature_extractor(x):\n",
    "    if len(np.shape(x)) == 2:\n",
    "        return np.array(scaler.transform(x))\n",
    "    else:\n",
    "        return np.array(scaler.transform([x]))"
   ]
  },
  {
   "cell_type": "code",
   "execution_count": 3,
   "id": "76e06e92",
   "metadata": {},
   "outputs": [],
   "source": [
    "def load_model(model_type):\n",
    "\n",
    "    if model_type == 'dt':\n",
    "        model = pickle.load(open(data_directory+'HMDA-MORTGAGE-APPROVAL_DT_scaling_20210205_014819.pkl', 'rb'))\n",
    "    elif model_type == 'gbc':\n",
    "        model = pickle.load(open(data_directory+'HMDA-MORTGAGE-APPROVAL_GBC_scaling_20210205_014418.pkl', 'rb'))\n",
    "    elif model_type == 'lr':\n",
    "        model = pickle.load(open(data_directory+'HMDA-MORTGAGE-APPROVAL_LR_scaling_20210205_012956.pkl', 'rb'))\n",
    "    elif model_type == 'rf':\n",
    "        model =  pickle.load(open(data_directory+'HMDA-MORTGAGE-APPROVAL_RF_scaling_20210205_013239.pkl', 'rb'))\n",
    "    else:\n",
    "        model = keras.models.load_model(data_directory+'HMDA-MORTGAGE-APPROVAL_MLP_scaling_20210205_011811.h5')\n",
    "        \n",
    "    return model"
   ]
  },
  {
   "cell_type": "code",
   "execution_count": 8,
   "id": "d2903e9b",
   "metadata": {
    "scrolled": false
   },
   "outputs": [
    {
     "name": "stdout",
     "output_type": "stream",
     "text": [
      "Model type: dt\n",
      "--------------------\n",
      "simanneal\n",
      "\tOverall Success rate: 0.6375\n",
      "\tAverage transforms 7.349019607843137\n"
     ]
    }
   ],
   "source": [
    "feature_groups = [\n",
    "    [12,13,14,15,16,17,18],\n",
    "    [19,20,21,22,23,24,25,26,27],\n",
    "    [6,7,8,9,10,11],\n",
    "    [0,1],\n",
    "    [33],\n",
    "    [34],\n",
    "    [4,5],\n",
    "    [2,3]\n",
    "]\n",
    "\n",
    "for mt in ['dt', 'gbc', 'lr', 'rf', 'mlp']:\n",
    "    print(\"Model type:\", mt)\n",
    "    print('--------------------')\n",
    "    model = load_model(mt)\n",
    "    for ty in ['simanneal']:\n",
    "        task_samples, adv_samples = pickle.load(open('data/HMDA/'+ ty +'_adv_samples_' + mt +'.p', 'rb'))\n",
    "\n",
    "        if mt == 'mlp':\n",
    "            orig_model_preds = np.argmax(model.predict(feature_extractor(task_samples)),axis=1)\n",
    "            adv_model_preds = np.argmax(model.predict(feature_extractor(adv_samples)),axis=1)\n",
    "        else:\n",
    "            orig_model_preds = np.argmax(model.predict_proba(feature_extractor(task_samples)),axis=1)\n",
    "            adv_model_preds = np.argmax(model.predict_proba(feature_extractor(adv_samples)),axis=1)\n",
    "\n",
    "        success_rate = np.sum(adv_model_preds != orig_model_preds)/len(orig_model_preds)\n",
    "        transform_differences = np.array([np.where(task_samples[i] != adv_samples[i])[0] for i in range(len(task_samples)) if orig_model_preds[i] != adv_model_preds[i]])\n",
    "        group_sets = []\n",
    "        for i in transform_differences:\n",
    "            current_groups = []\n",
    "            for ii in i:\n",
    "                for iii, g in enumerate(feature_groups):\n",
    "                    if ii in g:\n",
    "                        current_groups.append(iii)\n",
    "                        break\n",
    "            group_sets.append(list(set(current_groups)))\n",
    "        average_transforms = np.mean([len(gs) for gs in group_sets])\n",
    "        \n",
    "\n",
    "        print(ty)\n",
    "        print(\"\\tOverall Success rate:\", success_rate)\n",
    "        print(\"\\tAverage transforms\", average_transforms)\n",
    "    print()"
   ]
  },
  {
   "cell_type": "code",
   "execution_count": null,
   "id": "e94aa288",
   "metadata": {},
   "outputs": [],
   "source": []
  }
 ],
 "metadata": {
  "kernelspec": {
   "display_name": "Python 3 (ipykernel)",
   "language": "python",
   "name": "python3"
  },
  "language_info": {
   "codemirror_mode": {
    "name": "ipython",
    "version": 3
   },
   "file_extension": ".py",
   "mimetype": "text/x-python",
   "name": "python",
   "nbconvert_exporter": "python",
   "pygments_lexer": "ipython3",
   "version": "3.8.16"
  }
 },
 "nbformat": 4,
 "nbformat_minor": 5
}
