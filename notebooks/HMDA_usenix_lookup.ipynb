{
 "cells": [
  {
   "cell_type": "code",
   "execution_count": 1,
   "id": "4de08227",
   "metadata": {},
   "outputs": [],
   "source": [
    "from __future__ import absolute_import, division, print_function, unicode_literals\n",
    "import os\n",
    "import warnings\n",
    "\n",
    "warnings.filterwarnings(\"ignore\")\n",
    "\n",
    "import pandas as pd\n",
    "import numpy as np\n",
    "\n",
    "\n",
    "from sklearn.metrics import accuracy_score\n",
    "from sklearn.preprocessing import StandardScaler\n",
    "import pickle\n",
    "from tensorflow import keras"
   ]
  },
  {
   "cell_type": "markdown",
   "id": "fc8a7e6b",
   "metadata": {},
   "source": [
    "# Data and Model prep"
   ]
  },
  {
   "cell_type": "code",
   "execution_count": 2,
   "id": "a916fd7c",
   "metadata": {},
   "outputs": [
    {
     "name": "stdout",
     "output_type": "stream",
     "text": [
      "(650877, 35)\n",
      "(650877, 1)\n",
      "(278948, 35)\n",
      "(278948, 1)\n"
     ]
    }
   ],
   "source": [
    "data_directory = \"data/HMDA/\"\n",
    "\n",
    "X_test = pd.read_csv(data_directory+'HMDA-MORTGAGE-APPROVAL_Xtest.bz2')\n",
    "y_test = pd.read_csv(data_directory+'HMDA-MORTGAGE-APPROVAL_ytest.bz2')\n",
    "X_train = pd.read_csv(data_directory+'HMDA-MORTGAGE-APPROVAL_Xtrain.bz2')\n",
    "y_train = pd.read_csv(data_directory+'HMDA-MORTGAGE-APPROVAL_ytrain.bz2')\n",
    "\n",
    "print(X_train.shape)\n",
    "print(y_train.shape)\n",
    "print(X_test.shape)\n",
    "print(y_test.shape)"
   ]
  },
  {
   "cell_type": "code",
   "execution_count": 3,
   "id": "76e06e92",
   "metadata": {},
   "outputs": [],
   "source": [
    "def load_model(model_type):\n",
    "\n",
    "    if model_type == 'dt':\n",
    "        model = pickle.load(open(data_directory+'HMDA-MORTGAGE-APPROVAL_DT_scaling_20210205_014819.pkl', 'rb'))\n",
    "    elif model_type == 'gbc':\n",
    "        model = pickle.load(open(data_directory+'HMDA-MORTGAGE-APPROVAL_GBC_scaling_20210205_014418.pkl', 'rb'))\n",
    "    elif model_type == 'lr':\n",
    "        model = pickle.load(open(data_directory+'HMDA-MORTGAGE-APPROVAL_LR_scaling_20210205_012956.pkl', 'rb'))\n",
    "    elif model_type == 'rf':\n",
    "        model =  pickle.load(open(data_directory+'HMDA-MORTGAGE-APPROVAL_RF_scaling_20210205_013239.pkl', 'rb'))\n",
    "    else:\n",
    "        model = keras.models.load_model(data_directory+'HMDA-MORTGAGE-APPROVAL_MLP_scaling_20210205_011811.h5')\n",
    "        \n",
    "    return model"
   ]
  },
  {
   "cell_type": "markdown",
   "id": "e5e5d6ab",
   "metadata": {},
   "source": [
    "# Attack - Lookup"
   ]
  },
  {
   "cell_type": "code",
   "execution_count": 4,
   "id": "d2903e9b",
   "metadata": {},
   "outputs": [
    {
     "name": "stdout",
     "output_type": "stream",
     "text": [
      "Model type: dt\n"
     ]
    },
    {
     "name": "stderr",
     "output_type": "stream",
     "text": [
      "34it [00:00, 153.64it/s]"
     ]
    },
    {
     "name": "stdout",
     "output_type": "stream",
     "text": [
      "Creating Dictionary\n"
     ]
    },
    {
     "name": "stderr",
     "output_type": "stream",
     "text": [
      "500it [00:02, 184.57it/s]\n",
      "  2%|▏         | 43/2000 [00:00<00:04, 424.68it/s]"
     ]
    },
    {
     "name": "stdout",
     "output_type": "stream",
     "text": [
      "Dictionary Created\n"
     ]
    },
    {
     "name": "stderr",
     "output_type": "stream",
     "text": [
      "100%|██████████| 2000/2000 [00:08<00:00, 223.08it/s]\n"
     ]
    },
    {
     "name": "stdout",
     "output_type": "stream",
     "text": [
      "Success rate: 0.8865\n",
      "\n",
      "Model type: gbc\n"
     ]
    },
    {
     "name": "stderr",
     "output_type": "stream",
     "text": [
      "10it [00:00, 95.87it/s]"
     ]
    },
    {
     "name": "stdout",
     "output_type": "stream",
     "text": [
      "Creating Dictionary\n"
     ]
    },
    {
     "name": "stderr",
     "output_type": "stream",
     "text": [
      "500it [00:05, 96.30it/s]\n",
      "  0%|          | 8/2000 [00:00<00:51, 38.87it/s]"
     ]
    },
    {
     "name": "stdout",
     "output_type": "stream",
     "text": [
      "Dictionary Created\n"
     ]
    },
    {
     "name": "stderr",
     "output_type": "stream",
     "text": [
      "100%|██████████| 2000/2000 [00:52<00:00, 38.05it/s]\n"
     ]
    },
    {
     "name": "stdout",
     "output_type": "stream",
     "text": [
      "Success rate: 0.264\n",
      "\n",
      "Model type: lr\n"
     ]
    },
    {
     "name": "stderr",
     "output_type": "stream",
     "text": [
      "17it [00:00, 166.28it/s]"
     ]
    },
    {
     "name": "stdout",
     "output_type": "stream",
     "text": [
      "Creating Dictionary\n"
     ]
    },
    {
     "name": "stderr",
     "output_type": "stream",
     "text": [
      "500it [00:02, 168.24it/s]\n",
      "  0%|          | 7/2000 [00:00<00:28, 68.79it/s]"
     ]
    },
    {
     "name": "stdout",
     "output_type": "stream",
     "text": [
      "Dictionary Created\n"
     ]
    },
    {
     "name": "stderr",
     "output_type": "stream",
     "text": [
      "100%|██████████| 2000/2000 [00:14<00:00, 137.86it/s]\n"
     ]
    },
    {
     "name": "stdout",
     "output_type": "stream",
     "text": [
      "Success rate: 0.686\n",
      "\n",
      "Model type: rf\n"
     ]
    },
    {
     "name": "stderr",
     "output_type": "stream",
     "text": [
      "\r",
      "0it [00:00, ?it/s]"
     ]
    },
    {
     "name": "stdout",
     "output_type": "stream",
     "text": [
      "Creating Dictionary\n"
     ]
    },
    {
     "name": "stderr",
     "output_type": "stream",
     "text": [
      "100%|██████████| 2000/2000 [39:15<00:00,  1.18s/it] \n"
     ]
    },
    {
     "name": "stdout",
     "output_type": "stream",
     "text": [
      "Success rate: 0.6985\n",
      "\n"
     ]
    }
   ],
   "source": [
    "from uret.utils.config import process_config_file\n",
    "import random\n",
    "\n",
    "cf = \"configs/HMDA/lookup.yml\"\n",
    "num_samples = 1000\n",
    "scaler = StandardScaler().fit(X_train)\n",
    "\n",
    "def feature_extractor(x):\n",
    "    if len(np.shape(x)) == 2:\n",
    "        return np.array(scaler.transform(x))\n",
    "    else:\n",
    "        return np.array(scaler.transform([x]))\n",
    "\n",
    "x_transformed = scaler.transform(X_test)\n",
    "\n",
    "for mt in ['dt', 'gbc', 'lr', 'rf']:\n",
    "    print(\"Model type:\", mt)\n",
    "    model = load_model(mt)\n",
    "    \n",
    "    model_preds = np.argmax(model.predict_proba(x_transformed),axis=1)\n",
    "    \n",
    "    zero_inds = np.where(model_preds == 0)[0][:num_samples]\n",
    "    one_inds = np.where(model_preds == 1)[0][:num_samples]\n",
    "    \n",
    "    task_samples = np.concatenate((list(X_test.values[zero_inds]), list(X_test.values[one_inds])))\n",
    "    \n",
    "    orig_model_preds = np.argmax(model.predict_proba(feature_extractor(task_samples)),axis=1)\n",
    "    \n",
    "    explorer = process_config_file(cf, model, feature_extractor=feature_extractor, input_processor_list=[])\n",
    "    \n",
    "    explorer.train(random.sample(list(X_test.values), 500))\n",
    "    adv_samples = explorer.explore(task_samples)  \n",
    "    \n",
    "    adv_model_preds = np.argmax(model.predict_proba(feature_extractor(adv_samples)),axis=1)\n",
    "    \n",
    "    success_rate = np.sum(adv_model_preds != orig_model_preds)/len(orig_model_preds)\n",
    "    \n",
    "    print(\"Success rate:\", success_rate)\n",
    "    print()\n",
    "    \n",
    "    pickle.dump([task_samples, adv_samples], open('data/HMDA_adv_samples/lookup_adv_samples_' + mt +'.p', 'wb'))"
   ]
  },
  {
   "cell_type": "code",
   "execution_count": 6,
   "id": "049c56ad",
   "metadata": {},
   "outputs": [
    {
     "name": "stdout",
     "output_type": "stream",
     "text": [
      "Model type: mlp\n"
     ]
    },
    {
     "name": "stderr",
     "output_type": "stream",
     "text": [
      "\r",
      "0it [00:00, ?it/s]"
     ]
    },
    {
     "name": "stdout",
     "output_type": "stream",
     "text": [
      "Creating Dictionary\n"
     ]
    },
    {
     "name": "stderr",
     "output_type": "stream",
     "text": [
      "200it [02:30,  1.33it/s]\n",
      "  0%|          | 0/2000 [00:00<?, ?it/s]"
     ]
    },
    {
     "name": "stdout",
     "output_type": "stream",
     "text": [
      "Dictionary Created\n"
     ]
    },
    {
     "name": "stderr",
     "output_type": "stream",
     "text": [
      "100%|██████████| 2000/2000 [12:17<00:00,  2.71it/s]\n"
     ]
    },
    {
     "name": "stdout",
     "output_type": "stream",
     "text": [
      "Success rate: 0.9365\n",
      "\n"
     ]
    }
   ],
   "source": [
    "cf = \"configs/HMDA/lookup_mlp.yml\"\n",
    "for mt in ['mlp']:\n",
    "    print(\"Model type:\", mt)\n",
    "    model = load_model(mt)\n",
    "    \n",
    "    model_preds = np.argmax(model.predict(x_transformed),axis=1)\n",
    "    \n",
    "    zero_inds = np.where(model_preds == 0)[0][:num_samples]\n",
    "    one_inds = np.where(model_preds == 1)[0][:num_samples]\n",
    "    \n",
    "    task_samples = np.concatenate((list(X_test.values[zero_inds]), list(X_test.values[one_inds])))\n",
    "    \n",
    "    orig_model_preds = np.argmax(model.predict(feature_extractor(task_samples)),axis=1)\n",
    "    \n",
    "    explorer = process_config_file(cf, model, feature_extractor=feature_extractor, input_processor_list=[])\n",
    "    \n",
    "    explorer.train(random.sample(list(X_test.values), 200))\n",
    "    adv_samples = explorer.explore(task_samples)  \n",
    "    \n",
    "    adv_model_preds = np.argmax(model.predict(feature_extractor(adv_samples)),axis=1)\n",
    "    \n",
    "    success_rate = np.sum(adv_model_preds != orig_model_preds)/len(orig_model_preds)\n",
    "    \n",
    "    print(\"Success rate:\", success_rate)\n",
    "    print()\n",
    "    \n",
    "    pickle.dump([task_samples, adv_samples], open('data/HMDA_adv_samples/lookup_adv_samples_' + mt +'.p', 'wb'))"
   ]
  },
  {
   "cell_type": "code",
   "execution_count": null,
   "id": "fc0f5aad",
   "metadata": {},
   "outputs": [],
   "source": []
  }
 ],
 "metadata": {
  "kernelspec": {
   "display_name": "Python 3 (ipykernel)",
   "language": "python",
   "name": "python3"
  },
  "language_info": {
   "codemirror_mode": {
    "name": "ipython",
    "version": 3
   },
   "file_extension": ".py",
   "mimetype": "text/x-python",
   "name": "python",
   "nbconvert_exporter": "python",
   "pygments_lexer": "ipython3",
   "version": "3.9.13"
  }
 },
 "nbformat": 4,
 "nbformat_minor": 5
}
