{
 "cells": [
  {
   "cell_type": "code",
   "execution_count": 1,
   "id": "4de08227",
   "metadata": {},
   "outputs": [],
   "source": [
    "from __future__ import absolute_import, division, print_function, unicode_literals\n",
    "import os\n",
    "import warnings\n",
    "\n",
    "warnings.filterwarnings(\"ignore\")\n",
    "\n",
    "import pandas as pd\n",
    "import numpy as np\n",
    "\n",
    "\n",
    "from sklearn.metrics import accuracy_score\n",
    "from sklearn.preprocessing import StandardScaler\n",
    "import pickle\n",
    "from tensorflow import keras"
   ]
  },
  {
   "cell_type": "markdown",
   "id": "fc8a7e6b",
   "metadata": {},
   "source": [
    "# Data and Model prep"
   ]
  },
  {
   "cell_type": "code",
   "execution_count": 2,
   "id": "a916fd7c",
   "metadata": {},
   "outputs": [
    {
     "name": "stdout",
     "output_type": "stream",
     "text": [
      "(650877, 35)\n",
      "(650877, 1)\n",
      "(278948, 35)\n",
      "(278948, 1)\n"
     ]
    }
   ],
   "source": [
    "data_directory = \"data/HMDA/\"\n",
    "\n",
    "X_test = pd.read_csv(data_directory+'HMDA-MORTGAGE-APPROVAL_Xtest.bz2')\n",
    "y_test = pd.read_csv(data_directory+'HMDA-MORTGAGE-APPROVAL_ytest.bz2')\n",
    "X_train = pd.read_csv(data_directory+'HMDA-MORTGAGE-APPROVAL_Xtrain.bz2')\n",
    "y_train = pd.read_csv(data_directory+'HMDA-MORTGAGE-APPROVAL_ytrain.bz2')\n",
    "\n",
    "print(X_train.shape)\n",
    "print(y_train.shape)\n",
    "print(X_test.shape)\n",
    "print(y_test.shape)"
   ]
  },
  {
   "cell_type": "code",
   "execution_count": 3,
   "id": "76e06e92",
   "metadata": {},
   "outputs": [],
   "source": [
    "def load_model(model_type):\n",
    "\n",
    "    if model_type == 'dt':\n",
    "        model = pickle.load(open(data_directory+'HMDA-MORTGAGE-APPROVAL_DT_scaling_20210205_014819.pkl', 'rb'))\n",
    "    elif model_type == 'gbc':\n",
    "        model = pickle.load(open(data_directory+'HMDA-MORTGAGE-APPROVAL_GBC_scaling_20210205_014418.pkl', 'rb'))\n",
    "    elif model_type == 'lr':\n",
    "        model = pickle.load(open(data_directory+'HMDA-MORTGAGE-APPROVAL_LR_scaling_20210205_012956.pkl', 'rb'))\n",
    "    elif model_type == 'rf':\n",
    "        model =  pickle.load(open(data_directory+'HMDA-MORTGAGE-APPROVAL_RF_scaling_20210205_013239.pkl', 'rb'))\n",
    "    else:\n",
    "        model = keras.models.load_model(data_directory+'HMDA-MORTGAGE-APPROVAL_MLP_scaling_20210205_011811.h5')\n",
    "        \n",
    "    return model"
   ]
  },
  {
   "cell_type": "markdown",
   "id": "e5e5d6ab",
   "metadata": {},
   "source": [
    "# Attack - Lookup"
   ]
  },
  {
   "cell_type": "code",
   "execution_count": 5,
   "id": "d2903e9b",
   "metadata": {},
   "outputs": [
    {
     "name": "stdout",
     "output_type": "stream",
     "text": [
      "Model type: dt\n"
     ]
    },
    {
     "name": "stderr",
     "output_type": "stream",
     "text": [
      "100%|█████████████████████████████████████| 2000/2000 [00:01<00:00, 1679.77it/s]\n"
     ]
    },
    {
     "name": "stdout",
     "output_type": "stream",
     "text": [
      "Success rate: 0.3805\n",
      "\n",
      "Model type: gbc\n"
     ]
    },
    {
     "name": "stderr",
     "output_type": "stream",
     "text": [
      "100%|██████████████████████████████████████| 2000/2000 [00:02<00:00, 742.81it/s]\n"
     ]
    },
    {
     "name": "stdout",
     "output_type": "stream",
     "text": [
      "Success rate: 0.14\n",
      "\n",
      "Model type: lr\n"
     ]
    },
    {
     "name": "stderr",
     "output_type": "stream",
     "text": [
      "100%|█████████████████████████████████████| 2000/2000 [00:01<00:00, 1544.50it/s]\n"
     ]
    },
    {
     "name": "stdout",
     "output_type": "stream",
     "text": [
      "Success rate: 0.331\n",
      "\n",
      "Model type: rf\n"
     ]
    },
    {
     "name": "stderr",
     "output_type": "stream",
     "text": [
      "100%|███████████████████████████████████████| 2000/2000 [06:18<00:00,  5.29it/s]"
     ]
    },
    {
     "name": "stdout",
     "output_type": "stream",
     "text": [
      "Success rate: 0.2695\n",
      "\n"
     ]
    },
    {
     "name": "stderr",
     "output_type": "stream",
     "text": [
      "\n"
     ]
    }
   ],
   "source": [
    "from uret.utils.config import process_config_file\n",
    "import random\n",
    "\n",
    "cf = \"configs/HMDA/random.yml\"\n",
    "num_samples = 1000\n",
    "scaler = StandardScaler().fit(X_train)\n",
    "\n",
    "def feature_extractor(x):\n",
    "    if len(np.shape(x)) == 2:\n",
    "        return np.array(scaler.transform(x))\n",
    "    else:\n",
    "        return np.array(scaler.transform([x]))\n",
    "\n",
    "x_transformed = scaler.transform(X_test)\n",
    "\n",
    "for mt in ['dt', 'gbc', 'lr', 'rf']:\n",
    "    print(\"Model type:\", mt)\n",
    "    model = load_model(mt)\n",
    "    \n",
    "    model_preds = np.argmax(model.predict_proba(x_transformed),axis=1)\n",
    "    \n",
    "    zero_inds = np.where(model_preds == 0)[0][:num_samples]\n",
    "    one_inds = np.where(model_preds == 1)[0][:num_samples]\n",
    "    \n",
    "    task_samples = np.concatenate((list(X_test.values[zero_inds]), list(X_test.values[one_inds])))\n",
    "    \n",
    "    orig_model_preds = np.argmax(model.predict_proba(feature_extractor(task_samples)),axis=1)\n",
    "    \n",
    "    explorer = process_config_file(cf, model, feature_extractor=feature_extractor, input_processor_list=[])\n",
    "    \n",
    "    adv_samples = explorer.explore(task_samples)  \n",
    "    \n",
    "    adv_model_preds = np.argmax(model.predict_proba(feature_extractor(adv_samples)),axis=1)\n",
    "    \n",
    "    success_rate = np.sum(adv_model_preds != orig_model_preds)/len(orig_model_preds)\n",
    "    \n",
    "    print(\"Success rate:\", success_rate)\n",
    "    print()\n",
    "    \n",
    "    pickle.dump([task_samples, adv_samples], open('data/HMDA/random_adv_samples_' + mt +'.p', 'wb'))"
   ]
  },
  {
   "cell_type": "code",
   "execution_count": null,
   "id": "049c56ad",
   "metadata": {},
   "outputs": [],
   "source": [
    "cf = \"configs/HMDA/random_mlp.yml\"\n",
    "for mt in ['mlp']:\n",
    "    print(\"Model type:\", mt)\n",
    "    model = load_model(mt)\n",
    "    \n",
    "    model_preds = np.argmax(model.predict(x_transformed),axis=1)\n",
    "    \n",
    "    zero_inds = np.where(model_preds == 0)[0][:num_samples]\n",
    "    one_inds = np.where(model_preds == 1)[0][:num_samples]\n",
    "    \n",
    "    task_samples = np.concatenate((list(X_test.values[zero_inds]), list(X_test.values[one_inds])))\n",
    "    \n",
    "    orig_model_preds = np.argmax(model.predict(feature_extractor(task_samples)),axis=1)\n",
    "    \n",
    "    explorer = process_config_file(cf, model, feature_extractor=feature_extractor, input_processor_list=[])\n",
    "    \n",
    "    adv_samples = explorer.explore(task_samples)  \n",
    "    \n",
    "    adv_model_preds = np.argmax(model.predict(feature_extractor(adv_samples)),axis=1)\n",
    "    \n",
    "    success_rate = np.sum(adv_model_preds != orig_model_preds)/len(orig_model_preds)\n",
    "    \n",
    "    print(\"Success rate:\", success_rate)\n",
    "    print()\n",
    "    \n",
    "    pickle.dump([task_samples, adv_samples], open('data/HMDA/random_adv_samples_' + mt +'.p', 'wb'))"
   ]
  },
  {
   "cell_type": "code",
   "execution_count": null,
   "id": "fc0f5aad",
   "metadata": {},
   "outputs": [],
   "source": []
  }
 ],
 "metadata": {
  "kernelspec": {
   "display_name": "Python 3 (ipykernel)",
   "language": "python",
   "name": "python3"
  },
  "language_info": {
   "codemirror_mode": {
    "name": "ipython",
    "version": 3
   },
   "file_extension": ".py",
   "mimetype": "text/x-python",
   "name": "python",
   "nbconvert_exporter": "python",
   "pygments_lexer": "ipython3",
   "version": "3.9.13"
  }
 },
 "nbformat": 4,
 "nbformat_minor": 5
}
